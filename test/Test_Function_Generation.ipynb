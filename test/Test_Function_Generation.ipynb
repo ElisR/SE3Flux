{
 "cells": [
  {
   "cell_type": "code",
   "execution_count": 38,
   "metadata": {},
   "outputs": [
    {
     "data": {
      "text/plain": [
       "basis_rotation"
      ]
     },
     "execution_count": 38,
     "metadata": {},
     "output_type": "execute_result"
    }
   ],
   "source": [
    "using SphericalHarmonics\n",
    "using Symbolics\n",
    "using BenchmarkTools\n",
    "\n",
    "include(\"Spherical.jl\")"
   ]
  },
  {
   "cell_type": "code",
   "execution_count": 40,
   "metadata": {},
   "outputs": [
    {
     "data": {
      "text/plain": [
       "#43 (generic function with 1 method)"
      ]
     },
     "execution_count": 40,
     "metadata": {},
     "output_type": "execute_result"
    }
   ],
   "source": [
    "@variables θ::Real, ϕ::Real\n",
    "\n",
    "ℓ = 2\n",
    "Ys_sym = computeYlm(θ, ϕ; lmax=ℓ, SHType=SphericalHarmonics.RealHarmonics())\n",
    "\n",
    "y11 = Ys_sym[(2, 1)] |> simplify\n",
    "\n",
    "y_expr = build_function(y11, θ, ϕ)\n",
    "y_og = y_expr |> eval"
   ]
  },
  {
   "cell_type": "code",
   "execution_count": 63,
   "metadata": {},
   "outputs": [
    {
     "data": {
      "text/plain": [
       ":(function Y(θ, ϕ)::Float32\n",
       "      \u001b[90m#= none:1 =#\u001b[39m\n",
       "      \u001b[90m#= none:2 =#\u001b[39m\n",
       "      (-0.54627424f0 * cos(ϕ)) * sin(2θ)\n",
       "  end)"
      ]
     },
     "execution_count": 63,
     "metadata": {},
     "output_type": "execute_result"
    }
   ],
   "source": [
    "str = Base.remove_linenums!(y_expr) |> repr\n",
    "str_F32 = replace(str, r\"function \\(θ, ϕ\\)\" => s\"function Y(θ, ϕ)::Float32\")\n",
    "str_F32 = replace(str_F32, r\"\\d+\\.\\d+\" => s\"\\g<0>f0\")\n",
    "\n",
    "f_return_F32 = str_F32 |> Meta.parse |> eval# |> eval"
   ]
  },
  {
   "cell_type": "code",
   "execution_count": 28,
   "metadata": {},
   "outputs": [
    {
     "data": {
      "text/plain": [
       "RegexMatch(\"function (θ, ϕ)\")"
      ]
     },
     "execution_count": 28,
     "metadata": {},
     "output_type": "execute_result"
    }
   ],
   "source": [
    "#match(r\"function \\(θ, ϕ\\)\", str)"
   ]
  },
  {
   "cell_type": "code",
   "execution_count": 52,
   "metadata": {},
   "outputs": [
    {
     "name": "stdout",
     "output_type": "stream",
     "text": [
      "  145.700 μs (2 allocations: 39.11 KiB)\n",
      "  147.100 μs (2 allocations: 39.11 KiB)\n"
     ]
    },
    {
     "data": {
      "text/plain": [
       "10000-element Vector{Float32}:\n",
       "  0.48369583\n",
       " -0.016277514\n",
       "  0.06011833\n",
       "  0.0939518\n",
       " -0.22644475\n",
       " -0.029382166\n",
       " -0.060825422\n",
       " -0.24992332\n",
       " -0.04845065\n",
       "  0.28346652\n",
       " -0.51887953\n",
       " -0.07470031\n",
       " -0.48384494\n",
       "  ⋮\n",
       " -0.1302933\n",
       "  0.10958901\n",
       " -0.49693412\n",
       "  0.151565\n",
       " -0.293944\n",
       "  0.18904404\n",
       " -0.09817385\n",
       "  0.16086204\n",
       "  0.01214854\n",
       " -0.0936908\n",
       " -0.3234512\n",
       "  0.084083825"
      ]
     },
     "execution_count": 52,
     "metadata": {},
     "output_type": "execute_result"
    }
   ],
   "source": [
    "θs = π * rand(Float32, 10000)\n",
    "ϕs = 2π * rand(Float32, 10000)\n",
    "\n",
    "@btime $Y.($θs, $ϕs)\n",
    "@btime $y_og.($θs, $ϕs) .|> Float32"
   ]
  },
  {
   "cell_type": "code",
   "execution_count": 60,
   "metadata": {},
   "outputs": [
    {
     "data": {
      "text/plain": [
       "y2 (generic function with 1 method)"
      ]
     },
     "execution_count": 60,
     "metadata": {},
     "output_type": "execute_result"
    }
   ],
   "source": [
    "y1(x) = x^1\n",
    "y2(x) = x^2\n",
    "\n",
    "a = 2\n",
    "frun = \"y$a\" |> Meta.parse |> eval"
   ]
  },
  {
   "cell_type": "code",
   "execution_count": 61,
   "metadata": {},
   "outputs": [
    {
     "data": {
      "text/plain": [
       "16"
      ]
     },
     "execution_count": 61,
     "metadata": {},
     "output_type": "execute_result"
    }
   ],
   "source": [
    "frun(4)"
   ]
  },
  {
   "cell_type": "code",
   "execution_count": null,
   "metadata": {},
   "outputs": [],
   "source": []
  }
 ],
 "metadata": {
  "kernelspec": {
   "display_name": "Julia 1.8.4",
   "language": "julia",
   "name": "julia-1.8"
  },
  "language_info": {
   "file_extension": ".jl",
   "mimetype": "application/julia",
   "name": "julia",
   "version": "1.8.4"
  },
  "orig_nbformat": 4
 },
 "nbformat": 4,
 "nbformat_minor": 2
}
