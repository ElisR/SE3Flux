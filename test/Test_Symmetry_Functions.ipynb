{
 "cells": [
  {
   "attachments": {},
   "cell_type": "markdown",
   "metadata": {},
   "source": [
    "# Testing Spherical Harmonics and Other Components"
   ]
  },
  {
   "cell_type": "code",
   "execution_count": 1,
   "metadata": {},
   "outputs": [],
   "source": [
    "# This is just giving me incorrect results, I'm pretty sure\n",
    "using BenchmarkTools\n",
    "using Test\n",
    "using SphericalHarmonics\n",
    "\n",
    "include(\"Spherical.jl\");"
   ]
  },
  {
   "cell_type": "code",
   "execution_count": 15,
   "metadata": {},
   "outputs": [],
   "source": [
    "include(\"utils.jl\");"
   ]
  },
  {
   "attachments": {},
   "cell_type": "markdown",
   "metadata": {},
   "source": [
    "## Previous Tests"
   ]
  },
  {
   "cell_type": "code",
   "execution_count": 7,
   "metadata": {},
   "outputs": [
    {
     "name": "stdout",
     "output_type": "stream",
     "text": [
      "\u001b[0m\u001b[1mTest Summary:               | \u001b[22m\u001b[32m\u001b[1mPass  \u001b[22m\u001b[39m\u001b[36m\u001b[1mTotal  \u001b[22m\u001b[39m\u001b[0m\u001b[1mTime\u001b[22m\n",
      "Clebsch-Gordan Coefficients | \u001b[32m   5  \u001b[39m\u001b[36m    5  \u001b[39m\u001b[0m0.0s\n"
     ]
    }
   ],
   "source": [
    "@testset \"Wikipedia Clebsch-Gordan Coefficients\" begin\n",
    "    # Some examples from Wikipedia\n",
    "    # TODO Get SymPy.jl comparison to work\n",
    "\n",
    "    # cg(j1, m1, j2, m2, J, M) = <j1 m1 j2 m2; J M>\n",
    "    @test cg(1, 1, 1, -1, 2, 0) == √(1 / 6)\n",
    "    @test cg(1, 0, 1, 0, 2, 0) == √(2 / 3)\n",
    "    @test cg(1, 0, 1, 0, 0, 0) == -√(1 / 3)\n",
    "    @test cg(1, 0, 1, 0, 1, 0) == 0\n",
    "\n",
    "    @test cg(2, 1, 1, 0, 3, 1) == √(8 / 15)\n",
    "end;"
   ]
  },
  {
   "cell_type": "code",
   "execution_count": 49,
   "metadata": {},
   "outputs": [
    {
     "name": "stdout",
     "output_type": "stream",
     "text": [
      "\u001b[0m\u001b[1mTest Summary:       | \u001b[22m\u001b[32m\u001b[1mPass  \u001b[22m\u001b[39m\u001b[36m\u001b[1mTotal  \u001b[22m\u001b[39m\u001b[0m\u001b[1mTime\u001b[22m\n",
      "Spherical Harmonics | \u001b[32m  40  \u001b[39m\u001b[36m   40  \u001b[39m\u001b[0m0.0s\n"
     ]
    },
    {
     "data": {
      "text/plain": [
       "Test.DefaultTestSet(\"Spherical Harmonics\", Any[], 40, false, false, true, 1.672838802067e9, 1.672838802094e9)"
      ]
     },
     "execution_count": 49,
     "metadata": {},
     "output_type": "execute_result"
    }
   ],
   "source": [
    "@testset \"Spherical Harmonics\" begin\n",
    "    Y00(θ, ϕ) = 0.5 * sqrt(1/π)\n",
    "    Y1m1(θ, ϕ) = 0.5 * sqrt(3/(2*π))*sin(θ)*exp(-im*ϕ)\n",
    "    Y10(θ, ϕ) = 0.5 * sqrt(3/π)*cos(θ)\n",
    "    Y11(θ, ϕ) = -0.5 * sqrt(3/(2*π))*sin(θ)*exp(im*ϕ)\n",
    "\n",
    "    # Real version\n",
    "    function Y1mR(θ, ϕ, m::Integer)\n",
    "        ans = Y10(θ, ϕ) |> real\n",
    "        if m > 0\n",
    "            # TODO Check proper minus signs, make sure convention is consistent\n",
    "            # Seems to be a minus sign off?\n",
    "            ans = -(Y1m1(θ, ϕ) + (-1)^m * Y11(θ, ϕ)) / √2 |> real\n",
    "        elseif m < 0\n",
    "            ans = -im * (Y1m1(θ, ϕ) - (-1)^m * Y11(θ, ϕ)) / √2 |> real\n",
    "        end\n",
    "\n",
    "        return ans\n",
    "    end\n",
    "\n",
    "    n_samples = 10\n",
    "    for n = 1:n_samples\n",
    "        θ = rand() * π\n",
    "        ϕ = (rand()-0.5) * 2*π\n",
    "        YsR = computeYlm(θ, ϕ; lmax=1, SHType=SphericalHarmonics.RealHarmonics())\n",
    "\n",
    "        @test YsR[(0, 0)] ≈ Y00(θ, ϕ)\n",
    "        @test YsR[(1, -1)] ≈ Y1mR(θ, ϕ, -1)\n",
    "        @test YsR[(1, 1)] ≈ Y1mR(θ, ϕ, 1)\n",
    "        @test YsR[(1, 0)] ≈ Y1mR(θ, ϕ, 0)\n",
    "        #@test Ys[(1, -1)] ≈ Y1m1(θ, ϕ)\n",
    "    end\n",
    "end"
   ]
  },
  {
   "attachments": {},
   "cell_type": "markdown",
   "metadata": {},
   "source": [
    "## Testing Importance of Change of Basis\n",
    "\n",
    "There are two equivalent change of basis formulae for converting complex spherical harmonics $Y_{\\ell}^{m}: S^2 \\mapsto \\mathbb{C}$ to real spherical harmonics $Y_{\\ell m}: S^2 \\mapsto \\mathbb{R}$. (Notice different subscript and superscript in notation.)\n",
    "$$\n",
    "Y_{\\ell m}= \\begin{cases}\\frac{i}{\\sqrt{2}}\\left(Y_{\\ell}^{-|m|}-(-1)^m Y_{\\ell}^{|m|}\\right) & \\text { if } m<0 \\\\ Y_{\\ell}^0 & \\text { if } m=0 \\\\ \\frac{1}{\\sqrt{2}}\\left(Y_{\\ell}^{-|m|}+(-1)^m Y_{\\ell}^{|m|}\\right) & \\text { if } m>0\\end{cases}\n",
    "\\qquad\n",
    "Y_{\\ell m}= \\begin{cases}\\sqrt{2}(-1)^m \\Im\\left[Y_{\\ell}^{|m|}\\right] & \\text { if } m<0 \\\\ Y_{\\ell}^0 & \\text { if } m=0 \\\\ \\sqrt{2}(-1)^m \\Re\\left[Y_{\\ell}^m\\right] & \\text { if } m>0\\end{cases}\n",
    "$$\n",
    "\n",
    "The real spherical harmonics are meant to be a complete set of orthonormal functions too."
   ]
  },
  {
   "attachments": {},
   "cell_type": "markdown",
   "metadata": {},
   "source": [
    "### Testing Minus Signs\n",
    "\n",
    "Have determined that `SphericalHarmonics.jl` does **not** include the \"Condon-Shortley\" phase factor $(-1)^m$ above (most easily visible in the right-hand definition). (The choice comes down to whether or not $(-1)^m$ is given to the Legendre polynomial instead, and shouldn't make a meaningful difference.)"
   ]
  },
  {
   "cell_type": "code",
   "execution_count": 41,
   "metadata": {},
   "outputs": [
    {
     "name": "stdout",
     "output_type": "stream",
     "text": [
      "\u001b[0m\u001b[1mTest Summary:               | \u001b[22m\u001b[32m\u001b[1mPass  \u001b[22m\u001b[39m\u001b[36m\u001b[1mTotal  \u001b[22m\u001b[39m\u001b[0m\u001b[1mTime\u001b[22m\n",
      "Check Minus Sign Convention | \u001b[32m  16  \u001b[39m\u001b[36m   16  \u001b[39m\u001b[0m1.2s\n"
     ]
    },
    {
     "data": {
      "text/plain": [
       "Test.DefaultTestSet(\"Check Minus Sign Convention\", Any[], 16, false, false, true, 1.67361158872e9, 1.673611589877e9)"
      ]
     },
     "execution_count": 41,
     "metadata": {},
     "output_type": "execute_result"
    }
   ],
   "source": [
    "function Ys_c2r(Ys, ℓ, m)\n",
    "    Y_r = Ys[(ℓ, 0)] |> real\n",
    "    if m < 0\n",
    "        Y_r = 1im * (Ys[(ℓ, -abs(m))] - (-1)^m * Ys[(ℓ, abs(m))]) / √2\n",
    "    elseif m > 0\n",
    "        Y_r = (Ys[(ℓ, -abs(m))] + (-1)^m * Ys[(ℓ, abs(m))]) / √2\n",
    "    end\n",
    "    Y_r\n",
    "end\n",
    "\n",
    "# Test passing means that SphericalHarmonics.jl does not include (-1)^m factor like Wikipedia definitions.\n",
    "@testset \"Check Minus Sign Convention\" begin\n",
    "    @variables θ::Real, ϕ::Real\n",
    "    ℓ_max = 3\n",
    "    Ys_real = computeYlm(θ, ϕ; lmax=ℓ_max, SHType=SphericalHarmonics.RealHarmonics())\n",
    "    Ys_complex = computeYlm(θ, ϕ; lmax=ℓ_max)\n",
    "    \n",
    "    for ℓ in 0:ℓ_max\n",
    "        for m in -ℓ:ℓ\n",
    "            @test (-1)^m * Ys_c2r(Ys_complex, ℓ, m) - Ys_real[(ℓ, m)] |> real |> eval ≈ 0\n",
    "        end\n",
    "    end\n",
    "end"
   ]
  },
  {
   "attachments": {},
   "cell_type": "markdown",
   "metadata": {},
   "source": [
    "### Test Algebraic Relations Between CG Coefficients"
   ]
  },
  {
   "cell_type": "code",
   "execution_count": 25,
   "metadata": {},
   "outputs": [
    {
     "data": {
      "text/plain": [
       "(ComplexF64[-0.7071067811865475 + 0.0im 0.0 + 0.0im … 0.0 + 0.0im 0.7071067811865475 + 0.0im; 0.0 + 0.0im -0.7071067811865475 + 0.0im … 0.7071067811865475 + 0.0im 0.0 + 0.0im; … ; 0.0 + 0.0im 0.0 + 0.7071067811865475im … 0.0 + 0.7071067811865475im 0.0 + 0.0im; 0.0 + 0.7071067811865475im 0.0 + 0.0im … 0.0 + 0.0im 0.0 + 0.7071067811865475im], ComplexF64[-0.0 - 0.7071067811865475im -0.0 + 0.0im … -0.0 + 0.0im 0.0 + 0.7071067811865475im; -0.0 + 0.0im -0.0 - 0.7071067811865475im … 0.0 + 0.7071067811865475im -0.0 + 0.0im; … ; -0.0 + 0.0im -0.7071067811865475 + 0.0im … -0.7071067811865475 + 0.0im -0.0 + 0.0im; -0.7071067811865475 + 0.0im -0.0 + 0.0im … -0.0 + 0.0im -0.7071067811865475 + 0.0im], ComplexF64[0.7071067811865475 + 0.0im 0.0 + 0.0im -0.7071067811865475 - 0.0im; 0.0 + 0.0im 0.0 - 1.0im 0.0 + 0.0im; 0.0 - 0.7071067811865475im 0.0 + 0.0im 0.0 - 0.7071067811865475im])"
      ]
     },
     "execution_count": 25,
     "metadata": {},
     "output_type": "execute_result"
    }
   ],
   "source": [
    "ℓi, ℓf, ℓo = 3, 2, 1\n",
    "ai, af, ao = basis_rotation.((ℓi, ℓf, ℓo))\n",
    "#generate_CG_matrices(ℓi, ℓf, ℓo)"
   ]
  },
  {
   "attachments": {},
   "cell_type": "markdown",
   "metadata": {},
   "source": [
    "### Test Orthogonality"
   ]
  },
  {
   "cell_type": "markdown",
   "metadata": {},
   "source": []
  }
 ],
 "metadata": {
  "kernelspec": {
   "display_name": "Julia 1.8.4",
   "language": "julia",
   "name": "julia-1.8"
  },
  "language_info": {
   "file_extension": ".jl",
   "mimetype": "application/julia",
   "name": "julia",
   "version": "1.8.4"
  },
  "orig_nbformat": 4
 },
 "nbformat": 4,
 "nbformat_minor": 2
}
