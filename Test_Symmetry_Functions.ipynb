{
 "cells": [
  {
   "attachments": {},
   "cell_type": "markdown",
   "metadata": {},
   "source": [
    "# Testing Spherical Harmonics and Other Components"
   ]
  },
  {
   "cell_type": "code",
   "execution_count": 17,
   "metadata": {},
   "outputs": [],
   "source": [
    "# This is just giving me incorrect results, I'm pretty sure\n",
    "using BenchmarkTools\n",
    "using Test\n",
    "using SphericalHarmonics\n",
    "\n",
    "include(\"Spherical.jl\");"
   ]
  },
  {
   "cell_type": "code",
   "execution_count": 5,
   "metadata": {},
   "outputs": [
    {
     "data": {
      "text/plain": [
       "BenchmarkTools.Trial: 10000 samples with 999 evaluations.\n",
       " Range \u001b[90m(\u001b[39m\u001b[36m\u001b[1mmin\u001b[22m\u001b[39m … \u001b[35mmax\u001b[39m\u001b[90m):  \u001b[39m\u001b[36m\u001b[1m15.516 ns\u001b[22m\u001b[39m … \u001b[35m725.125 ns\u001b[39m  \u001b[90m┊\u001b[39m GC \u001b[90m(\u001b[39mmin … max\u001b[90m): \u001b[39m0.00% … 0.00%\n",
       " Time  \u001b[90m(\u001b[39m\u001b[34m\u001b[1mmedian\u001b[22m\u001b[39m\u001b[90m):     \u001b[39m\u001b[34m\u001b[1m17.417 ns               \u001b[22m\u001b[39m\u001b[90m┊\u001b[39m GC \u001b[90m(\u001b[39mmedian\u001b[90m):    \u001b[39m0.00%\n",
       " Time  \u001b[90m(\u001b[39m\u001b[32m\u001b[1mmean\u001b[22m\u001b[39m ± \u001b[32mσ\u001b[39m\u001b[90m):   \u001b[39m\u001b[32m\u001b[1m18.605 ns\u001b[22m\u001b[39m ± \u001b[32m 14.290 ns\u001b[39m  \u001b[90m┊\u001b[39m GC \u001b[90m(\u001b[39mmean ± σ\u001b[90m):  \u001b[39m0.00% ± 0.00%\n",
       "\n",
       "  \u001b[39m \u001b[39m \u001b[39m▂\u001b[39m▆\u001b[34m█\u001b[39m\u001b[39m▆\u001b[39m▅\u001b[32m▃\u001b[39m\u001b[39m \u001b[39m \u001b[39m \u001b[39m \u001b[39m \u001b[39m \u001b[39m \u001b[39m \u001b[39m \u001b[39m \u001b[39m \u001b[39m \u001b[39m \u001b[39m \u001b[39m \u001b[39m \u001b[39m \u001b[39m \u001b[39m \u001b[39m \u001b[39m \u001b[39m \u001b[39m \u001b[39m \u001b[39m \u001b[39m \u001b[39m \u001b[39m \u001b[39m \u001b[39m \u001b[39m \u001b[39m \u001b[39m \u001b[39m \u001b[39m \u001b[39m \u001b[39m \u001b[39m \u001b[39m \u001b[39m \u001b[39m \u001b[39m \u001b[39m \u001b[39m \u001b[39m \u001b[39m \u001b[39m \u001b[39m \u001b[39m \u001b[39m \u001b[39m \u001b[39m \u001b[39m \u001b[39m▂\n",
       "  \u001b[39m▄\u001b[39m█\u001b[39m█\u001b[39m█\u001b[34m█\u001b[39m\u001b[39m█\u001b[39m█\u001b[32m█\u001b[39m\u001b[39m█\u001b[39m▇\u001b[39m▇\u001b[39m▇\u001b[39m▆\u001b[39m▇\u001b[39m▅\u001b[39m▇\u001b[39m▆\u001b[39m▆\u001b[39m▆\u001b[39m▄\u001b[39m▅\u001b[39m▄\u001b[39m▄\u001b[39m▄\u001b[39m▃\u001b[39m▃\u001b[39m▃\u001b[39m▄\u001b[39m▄\u001b[39m▄\u001b[39m▄\u001b[39m▃\u001b[39m▁\u001b[39m▃\u001b[39m▅\u001b[39m▅\u001b[39m▅\u001b[39m▅\u001b[39m▅\u001b[39m▅\u001b[39m▅\u001b[39m▄\u001b[39m▄\u001b[39m▅\u001b[39m▄\u001b[39m▆\u001b[39m▁\u001b[39m▅\u001b[39m▅\u001b[39m▃\u001b[39m▅\u001b[39m▃\u001b[39m▃\u001b[39m▁\u001b[39m▃\u001b[39m▅\u001b[39m▃\u001b[39m▄\u001b[39m▅\u001b[39m▅\u001b[39m \u001b[39m█\n",
       "  15.5 ns\u001b[90m       \u001b[39m\u001b[90mHistogram: \u001b[39m\u001b[90m\u001b[1mlog(\u001b[22m\u001b[39m\u001b[90mfrequency\u001b[39m\u001b[90m\u001b[1m)\u001b[22m\u001b[39m\u001b[90m by time\u001b[39m      40.9 ns \u001b[0m\u001b[1m<\u001b[22m\n",
       "\n",
       " Memory estimate\u001b[90m: \u001b[39m\u001b[33m0 bytes\u001b[39m, allocs estimate\u001b[90m: \u001b[39m\u001b[33m0\u001b[39m."
      ]
     },
     "execution_count": 5,
     "metadata": {},
     "output_type": "execute_result"
    }
   ],
   "source": [
    "# Testing memoization\n",
    "@benchmark cg(1, 1, 1, -1, 2, 0)"
   ]
  },
  {
   "cell_type": "code",
   "execution_count": 7,
   "metadata": {},
   "outputs": [
    {
     "name": "stdout",
     "output_type": "stream",
     "text": [
      "\u001b[0m\u001b[1mTest Summary:               | \u001b[22m\u001b[32m\u001b[1mPass  \u001b[22m\u001b[39m\u001b[36m\u001b[1mTotal  \u001b[22m\u001b[39m\u001b[0m\u001b[1mTime\u001b[22m\n",
      "Clebsch-Gordan Coefficients | \u001b[32m   5  \u001b[39m\u001b[36m    5  \u001b[39m\u001b[0m0.0s\n"
     ]
    }
   ],
   "source": [
    "@testset \"Clebsch-Gordan Coefficients\" begin\n",
    "    # Some examples from Wikipedia\n",
    "    # TODO Get SymPy.jl comparison to work\n",
    "\n",
    "    # cg(j1, m1, j2, m2, J, M) = <j1 m1 j2 m2; J M>\n",
    "    @test cg(1, 1, 1, -1, 2, 0) == √(1 / 6)\n",
    "    @test cg(1, 0, 1, 0, 2, 0) == √(2 / 3)\n",
    "    @test cg(1, 0, 1, 0, 0, 0) == -√(1 / 3)\n",
    "    @test cg(1, 0, 1, 0, 1, 0) == 0\n",
    "\n",
    "    @test cg(2, 1, 1, 0, 3, 1) == √(8 / 15)\n",
    "end;"
   ]
  },
  {
   "cell_type": "code",
   "execution_count": 49,
   "metadata": {},
   "outputs": [
    {
     "name": "stdout",
     "output_type": "stream",
     "text": [
      "\u001b[0m\u001b[1mTest Summary:       | \u001b[22m\u001b[32m\u001b[1mPass  \u001b[22m\u001b[39m\u001b[36m\u001b[1mTotal  \u001b[22m\u001b[39m\u001b[0m\u001b[1mTime\u001b[22m\n",
      "Spherical Harmonics | \u001b[32m  40  \u001b[39m\u001b[36m   40  \u001b[39m\u001b[0m0.0s\n"
     ]
    },
    {
     "data": {
      "text/plain": [
       "Test.DefaultTestSet(\"Spherical Harmonics\", Any[], 40, false, false, true, 1.672838802067e9, 1.672838802094e9)"
      ]
     },
     "execution_count": 49,
     "metadata": {},
     "output_type": "execute_result"
    }
   ],
   "source": [
    "@testset \"Spherical Harmonics\" begin\n",
    "    Y00(θ, ϕ) = 0.5 * sqrt(1/π)\n",
    "    Y1m1(θ, ϕ) = 0.5 * sqrt(3/(2*π))*sin(θ)*exp(-im*ϕ)\n",
    "    Y10(θ, ϕ) = 0.5 * sqrt(3/π)*cos(θ)\n",
    "    Y11(θ, ϕ) = -0.5 * sqrt(3/(2*π))*sin(θ)*exp(im*ϕ)\n",
    "\n",
    "    # Real version\n",
    "    function Y1mR(θ, ϕ, m::Integer)\n",
    "        ans = Y10(θ, ϕ) |> real\n",
    "        if m > 0\n",
    "            # TODO Check proper minus signs, make sure convention is consistent\n",
    "            ans = -(Y1m1(θ, ϕ) + (-1)^m * Y11(θ, ϕ)) / √2 |> real\n",
    "        elseif m < 0\n",
    "            ans = -im * (Y1m1(θ, ϕ) - (-1)^m * Y11(θ, ϕ)) / √2 |> real\n",
    "        end\n",
    "\n",
    "        return ans\n",
    "    end\n",
    "\n",
    "    n_samples = 10\n",
    "    for n = 1:n_samples\n",
    "        θ = rand() * π\n",
    "        ϕ = (rand()-0.5) * 2*π\n",
    "        YsR = computeYlm(θ, ϕ; lmax=1, SHType=SphericalHarmonics.RealHarmonics())\n",
    "\n",
    "        @test YsR[(0, 0)] ≈ Y00(θ, ϕ)\n",
    "        @test YsR[(1, -1)] ≈ Y1mR(θ, ϕ, -1)\n",
    "        @test YsR[(1, 1)] ≈ Y1mR(θ, ϕ, 1)\n",
    "        @test YsR[(1, 0)] ≈ Y1mR(θ, ϕ, 0)\n",
    "        #@test Ys[(1, -1)] ≈ Y1m1(θ, ϕ)\n",
    "    end\n",
    "end"
   ]
  }
 ],
 "metadata": {
  "kernelspec": {
   "display_name": "Julia 1.8.4",
   "language": "julia",
   "name": "julia-1.8"
  },
  "language_info": {
   "file_extension": ".jl",
   "mimetype": "application/julia",
   "name": "julia",
   "version": "1.8.4"
  },
  "orig_nbformat": 4
 },
 "nbformat": 4,
 "nbformat_minor": 2
}
