{
 "cells": [
  {
   "cell_type": "code",
   "execution_count": 33,
   "metadata": {},
   "outputs": [],
   "source": [
    "using Flux\n",
    "using Symbolics\n",
    "using SphericalHarmonics\n",
    "using CUDA\n",
    "\n",
    "using BenchmarkTools"
   ]
  },
  {
   "attachments": {},
   "cell_type": "markdown",
   "metadata": {},
   "source": [
    "### Defining Data"
   ]
  },
  {
   "cell_type": "code",
   "execution_count": 4,
   "metadata": {},
   "outputs": [
    {
     "data": {
      "text/plain": [
       "4×3 Matrix{Int64}:\n",
       " 0  0  0\n",
       " 0  0  1\n",
       " 1  0  0\n",
       " 1  1  0"
      ]
     },
     "execution_count": 4,
     "metadata": {},
     "output_type": "execute_result"
    }
   ],
   "source": [
    "# Define Tetris Shapes\n",
    "tetris = [[0 0 0; 0 0 1; 1 0 0; 1 1 0],  # chiral_shape_1\n",
    "          [0 0 0; 0 0 1; 1 0 0; 1 -1 0], # chiral_shape_2\n",
    "          [0 0 0; 1 0 0; 0 1 0; 1 1 0],  # square\n",
    "          [0 0 0; 0 0 1; 0 0 2; 0 0 3],  # line\n",
    "          [0 0 0; 0 0 1; 0 1 0; 1 0 0],  # corner\n",
    "          [0 0 0; 0 0 1; 0 0 2; 0 1 0],  # T\n",
    "          [0 0 0; 0 0 1; 0 0 2; 0 1 1],  # zigzag\n",
    "          [0 0 0; 1 0 0; 1 1 0; 2 1 0]]  # L"
   ]
  },
  {
   "attachments": {},
   "cell_type": "markdown",
   "metadata": {},
   "source": [
    "### Testing Network"
   ]
  },
  {
   "cell_type": "code",
   "execution_count": 21,
   "metadata": {},
   "outputs": [
    {
     "data": {
      "text/plain": [
       "4×5 CUDA.CuArray{Float32, 2, CUDA.Mem.DeviceBuffer}:\n",
       "  0.0         0.0         -0.026137   3.95768f-9    0.0452706\n",
       " -3.95768f-9  3.95768f-9  -0.026137  -1.72996f-16  -0.0452706\n",
       " -3.95768f-9  3.95768f-9  -0.026137  -1.72996f-16  -0.0452706\n",
       " -1.1873f-8   1.1873f-8   -0.078411  -5.18987f-16  -0.135812"
      ]
     },
     "execution_count": 21,
     "metadata": {},
     "output_type": "execute_result"
    }
   ],
   "source": [
    "\"\"\"\n",
    "Convert cartesian vectors into spherical coordinates.\n",
    "Columns are [r, θ, ϕ]\n",
    "\"\"\"\n",
    "function cart_to_sph(xs)\n",
    "    rs = @. √(xs[:,1]^2 + xs[:,2]^2 + xs[:,3]^2) \n",
    "    θs = @. acos(xs[:,3] / rs)\n",
    "    ϕs = @. atan(xs[:,2], xs[:,1])\n",
    "\n",
    "    [rs θs ϕs]\n",
    "end"
   ]
  },
  {
   "cell_type": "code",
   "execution_count": 104,
   "metadata": {},
   "outputs": [],
   "source": [
    "struct FLayer\n",
    "    R::Chain # Radial NN\n",
    "    Ys::Vector{Function} # SH functions for this ℓf\n",
    "    ℓf::Int # Filter angular momentum # TODO Consider removing\n",
    "end\n",
    "\n",
    "function FLayer(Ys::Vector{Function})\n",
    "    # Will later allow for custom spec\n",
    "    R = Chain(\n",
    "        Dense(1 => 5, relu),\n",
    "        Dense(5 => 5, relu),\n",
    "        Dense(5 => 1, relu)\n",
    "    )\n",
    "\n",
    "    ℓf = (length(Ys) - 1) ÷ 2\n",
    "    FLayer(R, Ys, ℓf)\n",
    "end\n",
    "\n",
    "# Dimension needs to be made one bigger\n",
    "function (F::FLayer)(rr)\n",
    "    # Apply R to the input radii\n",
    "    rr_radial = rr[:,1]'\n",
    "    R_out = F.R(rr_radial)\n",
    "\n",
    "    # Multiply by SH components\n",
    "    Y_out = reduce(hcat, [Y.(rr[:,2], rr[:,3]) for Y in F.Ys])\n",
    "    R_out' .* Y_out\n",
    "end\n",
    "\n",
    "Flux.@functor FLayer (R,)"
   ]
  },
  {
   "cell_type": "code",
   "execution_count": null,
   "metadata": {},
   "outputs": [],
   "source": [
    "@variables θ, ϕ\n",
    "Ys_sym = computeYlm(θ, ϕ; lmax=2, SHType=SphericalHarmonics.RealHarmonics())\n",
    "\n",
    "# Create dictionary of functions\n",
    "Ys = Dict(key => (eval ∘ build_function)(Ys_sym[key] |> simplify, θ, ϕ)\n",
    "            for key in Ys_sym.modes[1] |> collect)\n",
    "\n",
    "ℓ = 2\n",
    "Ys_ℓ = [Ys[(ℓ, m)] for m in -ℓ:ℓ]"
   ]
  },
  {
   "cell_type": "code",
   "execution_count": 106,
   "metadata": {},
   "outputs": [
    {
     "data": {
      "text/plain": [
       "((R = (layers = ((weight = \u001b[32mLeaf(Adam{Float64}(0.01, (0.9, 0.999), 1.0e-8), \u001b[39m(Float32[0.0; -0.365752; … ; 0.0; -0.127473;;], Float32[0.0; 0.0133774; … ; 0.0; 0.00162493;;], (0.81, 0.998001))\u001b[32m)\u001b[39m, bias = \u001b[32mLeaf(Adam{Float64}(0.01, (0.9, 0.999), 1.0e-8), \u001b[39m(Float32[0.0, -0.311517, 0.270187, 0.0, -0.108571], Float32[0.0, 0.0097043, 0.00730011, 0.0, 0.00117876], (0.81, 0.998001))\u001b[32m)\u001b[39m, σ = ()), (weight = \u001b[32mLeaf(Adam{Float64}(0.01, (0.9, 0.999), 1.0e-8), \u001b[39m(Float32[0.0 -0.230803 … 0.0 -0.361674; 0.0 0.107301 … 0.0 0.168143; … ; 0.0 -0.109133 … 0.0 -0.171014; 0.0 -0.068439 … 0.0 -0.107246], Float32[0.0 0.00532698 … 0.0 0.0130808; 0.0 0.00115134 … 0.0 0.00282721; … ; 0.0 0.001191 … 0.0 0.00292459; 0.0 0.00046839 … 0.0 0.00115017], (0.81, 0.998001))\u001b[32m)\u001b[39m, bias = \u001b[32mLeaf(Adam{Float64}(0.01, (0.9, 0.999), 1.0e-8), \u001b[39m(Float32[-0.405279, 0.188415, 0.0, -0.191633, -0.120176], Float32[0.0164251, 0.00355003, 0.0, 0.00367231, 0.00144423], (0.81, 0.998001))\u001b[32m)\u001b[39m, σ = ()), (weight = \u001b[32mLeaf(Adam{Float64}(0.01, (0.9, 0.999), 1.0e-8), \u001b[39m(Float32[-0.0603414 -0.151468 … -0.211019 -0.37154], Float32[0.000364108 0.00229427 … 0.0044529 0.0138042], (0.81, 0.998001))\u001b[32m)\u001b[39m, bias = \u001b[32mLeaf(Adam{Float64}(0.01, (0.9, 0.999), 1.0e-8), \u001b[39m(Float32[-0.418838], Float32[0.0175425], (0.81, 0.998001))\u001b[32m)\u001b[39m, σ = ())),),), FLayer(Chain(Dense(1 => 5, relu), Dense(5 => 5, relu), Dense(5 => 1, relu)), Function[var\"#59#60\"(), var\"#61#62\"(), var\"#63#64\"(), var\"#65#66\"(), var\"#67#68\"()], 2))"
      ]
     },
     "execution_count": 106,
     "metadata": {},
     "output_type": "execute_result"
    }
   ],
   "source": [
    "xs1::Matrix{Float32} = [1 0 0; 0 1 0; 0 1 0; 0 3 0]\n",
    "xs_sph = cart_to_sph(xs1)\n",
    "ys_rand = rand(Float32, (4, 5))\n",
    "\n",
    "xs_gpu = xs_sph |> gpu\n",
    "ys_gpu = ys_rand |> gpu\n",
    "\n",
    "f_test = FLayer(Ys_ℓ) |> gpu\n",
    "optim = Flux.setup(Flux.Adam(0.01), f_test)\n",
    "\n",
    "# Testing gradient\n",
    "loss, grads = Flux.withgradient(f_test) do m\n",
    "    # Evaluate model and loss inside gradient context:\n",
    "    y_hat = m(xs_gpu)\n",
    "    Flux.crossentropy(y_hat, ys_gpu)\n",
    "end\n",
    "Flux.update!(optim, f_test, grads[1])"
   ]
  },
  {
   "cell_type": "code",
   "execution_count": null,
   "metadata": {},
   "outputs": [],
   "source": [
    "struct CLayer\n",
    "    F::FLayer # Trainable NN\n",
    "    CG_mats::Dict{Tuple{Int, Int}, Matrix} # Dictionary of matrices, keyed by (ℓo, mo)\n",
    "\n",
    "    ℓi::Int # Input ℓ\n",
    "    ℓf::Int # Filter ℓ\n",
    "    ℓms::Vector{Tuple{Int, Int}} # Specifying output order\n",
    "end\n",
    "\n",
    "# Constructor\n",
    "function CLayer()\n",
    "\n",
    "    # Choosing\n",
    "    ℓm_pairs = []\n",
    "    for ℓo in abs(ℓi - ℓf):(ℓi + ℓf)\n",
    "        for mo in -ℓo:ℓo\n",
    "            ℓm_pairs.append!([(ℓo, mo)])\n",
    "end\n",
    "\n",
    "# Forward pass\n",
    "function (C::CLayer)(rr, V)\n",
    "    F_out = F(rr)\n",
    "    FV = F_out' * V\n",
    "\n",
    "    # TODO Use symmetry in CG\n",
    "    reduce(hcat, [sum(CG_mat[ℓm] .* FV) for ℓm in C.ℓms])\n",
    "end\n",
    "\n",
    "Flux.@functor CLayer (F,)"
   ]
  }
 ],
 "metadata": {
  "kernelspec": {
   "display_name": "Julia 1.8.4",
   "language": "julia",
   "name": "julia-1.8"
  },
  "language_info": {
   "file_extension": ".jl",
   "mimetype": "application/julia",
   "name": "julia",
   "version": "1.8.4"
  },
  "orig_nbformat": 4
 },
 "nbformat": 4,
 "nbformat_minor": 2
}
