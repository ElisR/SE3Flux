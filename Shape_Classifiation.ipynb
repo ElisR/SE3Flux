{
 "cells": [
  {
   "cell_type": "code",
   "execution_count": 1,
   "metadata": {},
   "outputs": [],
   "source": [
    "using Flux\n",
    "using Symbolics\n",
    "using SphericalHarmonics\n",
    "using CUDA\n",
    "using NNlib\n",
    "using OneHotArrays\n",
    "using MLUtils\n",
    "\n",
    "using Rotations\n",
    "using TensorCast\n",
    "using Test\n",
    "\n",
    "# Disable slow GPU indexing and turn warnings into errors\n",
    "CUDA.allowscalar(false)\n",
    "\n",
    "using BenchmarkTools\n",
    "using ProgressMeter\n",
    "\n",
    "include(\"utils.jl\")\n",
    "include(\"Spherical.jl\")\n",
    "include(\"alt_parallel.jl\")"
   ]
  },
  {
   "cell_type": "code",
   "execution_count": 2,
   "metadata": {},
   "outputs": [],
   "source": [
    "include(\"TFNLayers.jl\")"
   ]
  },
  {
   "attachments": {},
   "cell_type": "markdown",
   "metadata": {},
   "source": [
    "## Trying Shape Classification"
   ]
  },
  {
   "cell_type": "code",
   "execution_count": 3,
   "metadata": {},
   "outputs": [],
   "source": [
    "# Define Tetris Shapes\n",
    "tetris = [[0 0 0; 0 0 1; 1 0 0; 1 1 0],  # chiral_shape_1\n",
    "          [0 0 0; 0 0 1; 1 0 0; 1 -1 0], # chiral_shape_2\n",
    "          [0 0 0; 1 0 0; 0 1 0; 1 1 0],  # square\n",
    "          [0 0 0; 0 0 1; 0 0 2; 0 0 3],  # line\n",
    "          [0 0 0; 0 0 1; 0 1 0; 1 0 0],  # corner\n",
    "          [0 0 0; 0 0 1; 0 0 2; 0 1 0],  # T\n",
    "          [0 0 0; 0 0 1; 0 0 2; 0 1 1],  # zigzag\n",
    "          [0 0 0; 1 0 0; 1 1 0; 2 1 0]]  # L\n",
    "\n",
    "tetris = convert.(Array{Float32, 2}, tetris)\n",
    "tetris_batched = batch(tetris)\n",
    "onehot_tetris = onehotbatch(1:length(tetris) |> collect, 1:length(tetris)) |> gpu\n",
    "Vones = ones(Float32, (size(tetris_batched, 1), size(tetris_batched, 3), 1)) |> gpu;"
   ]
  },
  {
   "cell_type": "code",
   "execution_count": 4,
   "metadata": {},
   "outputs": [],
   "source": [
    "sph_tetris = tetris_batched |> pairwise_rs |> cart_to_sph |> gpu;\n",
    "centers = range(0f0, 3.5f0; length=4) |> collect\n",
    "\n",
    "classifier = Chain(\n",
    "            SIWrapper([1 => 4]),\n",
    "            E3ConvLayer([4], [[(0, 0) => [0], (0, 1) => [1]]], centers),\n",
    "            SIWrapper([4 => 4, 4 => 4]),\n",
    "            NLWrapper([4, 4]),\n",
    "            E3ConvLayer([4, 4], [[(0, 0) => [0], (0, 1) => [1]], [(1, 0) => [1], (1, 1) => [0, 1]]], centers),\n",
    "            SIWrapper([8 => 4, 12 => 4]),\n",
    "            NLWrapper([4, 4]),\n",
    "            E3ConvLayer([4, 4], [[(0, 0) => [0]], [(1, 1) => [0]]], centers),\n",
    "            SIWrapper([8 => 4]),\n",
    "            NLWrapper([4]),\n",
    "            PLayer(),\n",
    "            Dense(4 => 8)\n",
    ") |> gpu;"
   ]
  },
  {
   "cell_type": "code",
   "execution_count": 5,
   "metadata": {},
   "outputs": [
    {
     "name": "stderr",
     "output_type": "stream",
     "text": [
      "\u001b[32mProgress: 100%|█████████████████████████████████████████| Time: 0:02:26\u001b[39m\n"
     ]
    }
   ],
   "source": [
    "optim = Flux.setup(Flux.Adam(0.01), classifier)\n",
    "\n",
    "# Testing gradient\n",
    "losses = []\n",
    "@showprogress for epoch in 1:600\n",
    "    loss, grads = Flux.withgradient(classifier) do c\n",
    "        # Evaluate model and loss inside gradient context:\n",
    "        y_hat = c((sph_tetris, ([Vones],)))\n",
    "        Flux.logitcrossentropy(y_hat, onehot_tetris)\n",
    "    end\n",
    "    Flux.update!(optim, classifier, grads[1])\n",
    "    push!(losses, loss)\n",
    "end"
   ]
  },
  {
   "cell_type": "code",
   "execution_count": 6,
   "metadata": {},
   "outputs": [],
   "source": [
    "rotated_tetris = [(rand(RotMatrix{3, Float32}) * tet')' for tet in tetris]\n",
    "rotated_tetris_batched = batch(rotated_tetris)\n",
    "sph_rotated = rotated_tetris_batched |> pairwise_rs |> cart_to_sph |> gpu;"
   ]
  },
  {
   "cell_type": "code",
   "execution_count": 7,
   "metadata": {},
   "outputs": [
    {
     "data": {
      "text/plain": [
       "\u001b[32m\u001b[1mTest Passed\u001b[22m\u001b[39m"
      ]
     },
     "execution_count": 7,
     "metadata": {},
     "output_type": "execute_result"
    }
   ],
   "source": [
    "final_unrotated = NNlib.softmax(classifier((sph_tetris, ([Vones],))))\n",
    "final = NNlib.softmax(classifier((sph_rotated, ([Vones],))))\n",
    "\n",
    "@test OneHotArrays.onecold(final |> cpu) == OneHotArrays.onecold(final_unrotated |> cpu)"
   ]
  },
  {
   "cell_type": "code",
   "execution_count": null,
   "metadata": {},
   "outputs": [],
   "source": []
  }
 ],
 "metadata": {
  "kernelspec": {
   "display_name": "Julia 1.8.4",
   "language": "julia",
   "name": "julia-1.8"
  },
  "language_info": {
   "file_extension": ".jl",
   "mimetype": "application/julia",
   "name": "julia",
   "version": "1.8.4"
  },
  "orig_nbformat": 4
 },
 "nbformat": 4,
 "nbformat_minor": 2
}
